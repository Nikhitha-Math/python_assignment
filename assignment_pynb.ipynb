{
  "nbformat": 4,
  "nbformat_minor": 0,
  "metadata": {
    "colab": {
      "provenance": []
    },
    "kernelspec": {
      "name": "python3",
      "display_name": "Python 3"
    },
    "language_info": {
      "name": "python"
    }
  },
  "cells": [
    {
      "cell_type": "code",
      "execution_count": null,
      "metadata": {
        "colab": {
          "base_uri": "https://localhost:8080/"
        },
        "id": "xxA6WWFJTHcr",
        "outputId": "d27148d8-8925-4015-8839-ad69ef27fb2a"
      },
      "outputs": [
        {
          "output_type": "stream",
          "name": "stdout",
          "text": [
            "min: 2 max: 9\n"
          ]
        }
      ],
      "source": [
        "l=[9,4,2,3,5,6,7]\n",
        "def nums(l):\n",
        "    l.sort()\n",
        "    return l[0],l[len(l)-1]\n",
        "\n",
        "p,q=nums(l)\n",
        "print(\"min:\",p,\"max:\",q)"
      ]
    },
    {
      "cell_type": "code",
      "source": [
        "def nums(l):\n",
        "    return sum(l)/len(l)\n",
        "\n",
        "p=nums(l=[2,4,1,2,5])\n",
        "print(\"mean=\",p)"
      ],
      "metadata": {
        "colab": {
          "base_uri": "https://localhost:8080/"
        },
        "id": "ocLAUFfNTzu8",
        "outputId": "48827a21-342b-4aaa-c39c-ef741b338657"
      },
      "execution_count": null,
      "outputs": [
        {
          "output_type": "stream",
          "name": "stdout",
          "text": [
            "mean= 2.8\n"
          ]
        }
      ]
    },
    {
      "cell_type": "code",
      "source": [
        "def med(l):\n",
        "    l.sort()\n",
        "    if (len(l)%2) != 0:\n",
        "        m=len(l)//2\n",
        "        return l[m]\n",
        "    else:\n",
        "        m1=len(l)//2\n",
        "        m2=len(l)//2-1\n",
        "        return (l[m1]+l[m2])/2\n",
        "\n",
        "p=med(l=[4,2,5,3,5])\n",
        "print(\"median=\",p)"
      ],
      "metadata": {
        "colab": {
          "base_uri": "https://localhost:8080/"
        },
        "id": "qRJ3wklEUBh-",
        "outputId": "8bd5e22c-69dc-4e6e-8bd6-3e80d14690dc"
      },
      "execution_count": null,
      "outputs": [
        {
          "output_type": "stream",
          "name": "stdout",
          "text": [
            "median= 4\n"
          ]
        }
      ]
    },
    {
      "cell_type": "code",
      "source": [
        "def freq(l):\n",
        "    l.sort()\n",
        "    q=set(l)\n",
        "    c=0\n",
        "    d={}\n",
        "    for i in q:\n",
        "        for j in l:\n",
        "            if i==j:\n",
        "                c=c+1\n",
        "        d[i]=c\n",
        "        c=0\n",
        "    if max(d.values())==1:\n",
        "        print(\"none\")\n",
        "    else:\n",
        "        p=[]\n",
        "        m=max(d.values())\n",
        "        for k in d:\n",
        "            if d[k]==m:\n",
        "                p.append(k)\n",
        "        print(p)\n",
        "\n",
        "freq(l=[1,3,3,5,5,2,6])"
      ],
      "metadata": {
        "colab": {
          "base_uri": "https://localhost:8080/"
        },
        "id": "16WlroTIcief",
        "outputId": "2246814c-082c-4c17-8503-0ce6efd7301e"
      },
      "execution_count": null,
      "outputs": [
        {
          "output_type": "stream",
          "name": "stdout",
          "text": [
            "[3, 5]\n"
          ]
        }
      ]
    },
    {
      "cell_type": "code",
      "source": [
        "def per(l, p=90):\n",
        "    l.sort()\n",
        "    n = len(l)\n",
        "    q1 = (p / 100) * (n - 1)\n",
        "    lower = int(q1)\n",
        "    upper = lower + 1\n",
        "    dp = q1 - lower\n",
        "    if upper >= n:\n",
        "        print('percentile value:', l[lower])\n",
        "    else:\n",
        "        q2 = l[lower] + dp * (l[upper] - l[lower])\n",
        "        print('percentile value:', q2)\n",
        "\n",
        "\n",
        "per(l=[2, 3, 1, 5])\n"
      ],
      "metadata": {
        "colab": {
          "base_uri": "https://localhost:8080/"
        },
        "id": "vDjvNOiU3vPO",
        "outputId": "8e8a97a2-05c8-41e0-c40c-ddba13a4954e"
      },
      "execution_count": 1,
      "outputs": [
        {
          "output_type": "stream",
          "name": "stdout",
          "text": [
            "percentile value: 4.4\n"
          ]
        }
      ]
    },
    {
      "cell_type": "code",
      "source": [
        "def per(l, p):\n",
        "    l=sorted(l)\n",
        "    n = len(l)\n",
        "    q1= (p / 100) * (n - 1)\n",
        "    lower = int(q1)\n",
        "    upper = lower + 1\n",
        "    dp =q1- lower\n",
        "    if upper >= n:\n",
        "        return l[lower]\n",
        "    return l[lower] + dp * (l[upper] - l[lower])\n",
        "\n",
        "\n",
        "\n",
        "l=[7,11,23,42,-3,-21,26,30]\n",
        "q1 = per(l, 25)\n",
        "q3 = per(l, 75)\n",
        "iqr = q3 - q1\n",
        "lb = q1 - 1.5 * iqr\n",
        "\n",
        "print(\"Lower Bound:\", lb)\n"
      ],
      "metadata": {
        "colab": {
          "base_uri": "https://localhost:8080/"
        },
        "id": "2hjzG2BS37_u",
        "outputId": "dae5a7b2-14d5-4a8a-8ed3-f6eadb2ce849"
      },
      "execution_count": 10,
      "outputs": [
        {
          "output_type": "stream",
          "name": "stdout",
          "text": [
            "Lower Bound: -29.25\n"
          ]
        }
      ]
    },
    {
      "cell_type": "code",
      "source": [
        "def per(l, p):\n",
        "    l=sorted(l)\n",
        "    n = len(l)\n",
        "    q1= (p / 100) * (n - 1)\n",
        "    lower = int(q1)\n",
        "    upper = lower + 1\n",
        "    dp =q1- lower\n",
        "    if upper >= n:\n",
        "        return l[lower]\n",
        "    return l[lower] + dp * (l[upper] - l[lower])\n",
        "\n",
        "\n",
        "\n",
        "l=[7,11,23,42,-3,-21,26,30]\n",
        "q1 = per(l, 25)\n",
        "q3 = per(l, 75)\n",
        "iqr = q3 - q1\n",
        "lb = q1 - 1.5 * iqr\n",
        "ub= q3 + 1.5 * iqr\n",
        "c=0\n",
        "for i in l:\n",
        "  if i<lb or i>ub:\n",
        "    print(\"outliers are:\",i)\n",
        "    c+=1\n",
        "if c==0:\n",
        "  print('none')\n",
        "\n",
        "\n"
      ],
      "metadata": {
        "colab": {
          "base_uri": "https://localhost:8080/"
        },
        "id": "nIW1KNeT38M-",
        "outputId": "78ca8fe4-ff3b-47e4-cdd7-ae02175e280f"
      },
      "execution_count": 12,
      "outputs": [
        {
          "output_type": "stream",
          "name": "stdout",
          "text": [
            "none\n"
          ]
        }
      ]
    },
    {
      "cell_type": "code",
      "source": [
        "def standard_deviation(data):\n",
        "    n = len(data)\n",
        "    mean = sum(data) / n\n",
        "\n",
        "    squared_diffs = []\n",
        "    for x in data:\n",
        "        diff = x - mean\n",
        "        squared = diff ** 2\n",
        "        squared_diffs.append(squared)\n",
        "\n",
        "    variance = sum(squared_diffs) / n\n",
        "    std_dev = variance ** 0.5\n",
        "    return std_dev\n",
        "p=standard_deviation(data=[2,4,3,5,6,3,3])\n",
        "print(\"standard deviation\",p)\n",
        "\n"
      ],
      "metadata": {
        "colab": {
          "base_uri": "https://localhost:8080/"
        },
        "id": "zC6YQh_i9Gax",
        "outputId": "a24c4f5e-d6d7-4469-b745-5be7909e6cd6"
      },
      "execution_count": 15,
      "outputs": [
        {
          "output_type": "stream",
          "name": "stdout",
          "text": [
            "standard deviation 1.2777531299998797\n"
          ]
        }
      ]
    },
    {
      "cell_type": "code",
      "source": [
        "def z_scores(data):\n",
        "\n",
        "    n = len(data)\n",
        "    mean = sum(data) / n\n",
        "    squared_diffs = []\n",
        "    for x in data:\n",
        "        diff = x - mean\n",
        "        squared = diff ** 2\n",
        "        squared_diffs.append(squared)\n",
        "\n",
        "    variance = sum(squared_diffs) / n\n",
        "    std_dev = variance ** 0.5\n",
        "    z_list = []\n",
        "    for x in data:\n",
        "        z = (x - mean) / std_dev\n",
        "        z_list.append(z)\n",
        "\n",
        "    return z_list\n",
        "\n",
        "p=z_scores(data=[2,4,3,5,6,3,3])\n",
        "print(p)\n"
      ],
      "metadata": {
        "colab": {
          "base_uri": "https://localhost:8080/"
        },
        "id": "90roNXk0-Ni3",
        "outputId": "62d31091-8021-4c03-c23f-449de6b247a6"
      },
      "execution_count": 16,
      "outputs": [
        {
          "output_type": "stream",
          "name": "stdout",
          "text": [
            "[-1.341640786499874, 0.2236067977499789, -0.5590169943749476, 1.0062305898749053, 1.788854381999832, -0.5590169943749476, -0.5590169943749476]\n"
          ]
        }
      ]
    },
    {
      "cell_type": "code",
      "source": [
        "def pearson_corr(x, y):\n",
        "\n",
        "    n = len(x)\n",
        "    mean_x = sum(x) / n\n",
        "    mean_y = sum(y) / n\n",
        "    numerator = 0\n",
        "    sum_sq_x = 0\n",
        "    sum_sq_y = 0\n",
        "\n",
        "    for i in range(n):\n",
        "        diff_x = x[i] - mean_x\n",
        "        diff_y = y[i] - mean_y\n",
        "        numerator += diff_x * diff_y\n",
        "        sum_sq_x += diff_x ** 2\n",
        "        sum_sq_y += diff_y ** 2\n",
        "\n",
        "    denominator = (sum_sq_x ** 0.5) * (sum_sq_y ** 0.5)\n",
        "\n",
        "    if denominator == 0:\n",
        "        return None\n",
        "\n",
        "    r = numerator / denominator\n",
        "    return r\n",
        "\n",
        "p=pearson_corr(x=[2,4,5,3,6],y=[3,5,2,6,7])\n",
        "print(p)"
      ],
      "metadata": {
        "colab": {
          "base_uri": "https://localhost:8080/"
        },
        "id": "Pg41sXIe-hK7",
        "outputId": "5cdb9150-9516-42f2-88ba-b948307bcafd"
      },
      "execution_count": 19,
      "outputs": [
        {
          "output_type": "stream",
          "name": "stdout",
          "text": [
            "0.30499714066520933\n"
          ]
        }
      ]
    }
  ]
}