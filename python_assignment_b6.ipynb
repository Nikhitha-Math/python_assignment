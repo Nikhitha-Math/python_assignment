{
  "cells": [
    {
      "cell_type": "markdown",
      "metadata": {
        "id": "view-in-github",
        "colab_type": "text"
      },
      "source": [
        "<a href=\"https://colab.research.google.com/github/Nikhitha-Math/python_assignment/blob/main/python_assignment_b6.ipynb\" target=\"_parent\"><img src=\"https://colab.research.google.com/assets/colab-badge.svg\" alt=\"Open In Colab\"/></a>"
      ]
    },
    {
      "cell_type": "markdown",
      "id": "d2328cad",
      "metadata": {
        "id": "d2328cad"
      },
      "source": [
        "# Python Basics Assignment"
      ]
    },
    {
      "cell_type": "markdown",
      "id": "cb537954",
      "metadata": {
        "id": "cb537954"
      },
      "source": [
        "### Question 1\n",
        "Write a function to compute number of vowels in a string given as input"
      ]
    },
    {
      "cell_type": "code",
      "execution_count": 10,
      "id": "cf213ba2",
      "metadata": {
        "colab": {
          "base_uri": "https://localhost:8080/"
        },
        "id": "cf213ba2",
        "outputId": "76ca3478-cdef-4f00-81db-4b9fbd5462db"
      },
      "outputs": [
        {
          "output_type": "stream",
          "name": "stdout",
          "text": [
            "enter stringnikhitha\n",
            "3\n"
          ]
        }
      ],
      "source": [
        "# Your code here\n",
        "def your_function_1(s):\n",
        "  v=\"aeiouAEIOU\"\n",
        "  c=0\n",
        "  for i in s:\n",
        "    if i in v:\n",
        "      c+=1\n",
        "  return c\n",
        "\n",
        "s=input(\"enter string\")\n",
        "c1=your_function_1(s)\n",
        "print(c1)\n",
        "\n",
        ""
      ]
    },
    {
      "cell_type": "markdown",
      "id": "4eaff430",
      "metadata": {
        "id": "4eaff430"
      },
      "source": [
        "### Question 2\n",
        "Write a function that checks whether a number is prime."
      ]
    },
    {
      "cell_type": "code",
      "execution_count": 2,
      "id": "81934cf7",
      "metadata": {
        "colab": {
          "base_uri": "https://localhost:8080/"
        },
        "id": "81934cf7",
        "outputId": "b01228cd-0a66-43bf-c5f8-5af5b113c327"
      },
      "outputs": [
        {
          "output_type": "stream",
          "name": "stdout",
          "text": [
            "False\n"
          ]
        }
      ],
      "source": [
        "# Your code here\n",
        "def your_function_2(n):\n",
        "  c=0\n",
        "  for i in range(1,n+1):\n",
        "    if n%i==0:\n",
        "      c+=1\n",
        "  if c==2:\n",
        "    return True\n",
        "  else:\n",
        "    return False\n",
        "\n",
        "s=your_function_2(12)\n",
        "print(s)\n",
        "\n",
        ""
      ]
    },
    {
      "cell_type": "markdown",
      "id": "5f061e50",
      "metadata": {
        "id": "5f061e50"
      },
      "source": [
        "### Question 3\n",
        "Write a function to return the maximum of two numbers."
      ]
    },
    {
      "cell_type": "code",
      "execution_count": 3,
      "id": "44e2a596",
      "metadata": {
        "colab": {
          "base_uri": "https://localhost:8080/"
        },
        "id": "44e2a596",
        "outputId": "a58f4ced-caa5-4221-8ada-125515fa0786"
      },
      "outputs": [
        {
          "output_type": "stream",
          "name": "stdout",
          "text": [
            "3\n"
          ]
        }
      ],
      "source": [
        "# Your code here\n",
        "def your_function_3(a,b):\n",
        "    return max(a,b)\n",
        "\n",
        "\n",
        "m=your_function_3(2,3)\n",
        "print(m)"
      ]
    },
    {
      "cell_type": "markdown",
      "id": "7513ca91",
      "metadata": {
        "id": "7513ca91"
      },
      "source": [
        "### Question 4\n",
        "Write a function to return the factorial of a number."
      ]
    },
    {
      "cell_type": "code",
      "execution_count": 4,
      "id": "6617842f",
      "metadata": {
        "colab": {
          "base_uri": "https://localhost:8080/"
        },
        "id": "6617842f",
        "outputId": "1b067741-fd4f-4a48-e97f-0e3cf6f4aa64"
      },
      "outputs": [
        {
          "output_type": "stream",
          "name": "stdout",
          "text": [
            "120\n"
          ]
        }
      ],
      "source": [
        "# Your code here\n",
        "def your_function_4(f):\n",
        "  fact=1\n",
        "  for i in range(1,f+1):\n",
        "    fact*=i\n",
        "  return fact\n",
        "\n",
        "p=your_function_4(5)\n",
        "print(p)\n",
        ""
      ]
    },
    {
      "cell_type": "markdown",
      "id": "9b942098",
      "metadata": {
        "id": "9b942098"
      },
      "source": [
        "### Question 5\n",
        "Write a function to reverse a string without string indexing."
      ]
    },
    {
      "cell_type": "code",
      "execution_count": 5,
      "id": "d606b194",
      "metadata": {
        "colab": {
          "base_uri": "https://localhost:8080/"
        },
        "id": "d606b194",
        "outputId": "dbf051a4-af0b-4a30-f069-52a47616663f"
      },
      "outputs": [
        {
          "output_type": "stream",
          "name": "stdout",
          "text": [
            "ahtihkiN\n"
          ]
        }
      ],
      "source": [
        "# Your code here\n",
        "def your_function_5(s):\n",
        "  r=\"\"\n",
        "  for i in s:\n",
        "    r=i+r\n",
        "  return r\n",
        "\n",
        "r=your_function_5(\"Nikhitha\")\n",
        "print(r)\n",
        "\n",
        ""
      ]
    },
    {
      "cell_type": "markdown",
      "id": "1abd915b",
      "metadata": {
        "id": "1abd915b"
      },
      "source": [
        "### Question 6\n",
        "Write a function to check if a string is a palindrome."
      ]
    },
    {
      "cell_type": "code",
      "execution_count": 13,
      "id": "2b868fb3",
      "metadata": {
        "colab": {
          "base_uri": "https://localhost:8080/"
        },
        "id": "2b868fb3",
        "outputId": "62439c3f-684a-4e8a-bb2d-1e1a8f2aa46e"
      },
      "outputs": [
        {
          "output_type": "stream",
          "name": "stdout",
          "text": [
            "palindrome\n"
          ]
        }
      ],
      "source": [
        "# Your code here\n",
        "def your_function_6(s):\n",
        "  s1=s[::-1]\n",
        "  if s1==s:\n",
        "    print(\"palindrome\")\n",
        "  else:\n",
        "    print(\"not palindrome\")\n",
        "\n",
        "your_function_6(\"malayalam\")\n",
        "\n",
        "\n",
        ""
      ]
    },
    {
      "cell_type": "markdown",
      "id": "5f2f3791",
      "metadata": {
        "id": "5f2f3791"
      },
      "source": [
        "### Question 7\n",
        "Write a function to count vowels in a string."
      ]
    },
    {
      "cell_type": "code",
      "execution_count": 14,
      "id": "73fefa50",
      "metadata": {
        "colab": {
          "base_uri": "https://localhost:8080/"
        },
        "id": "73fefa50",
        "outputId": "e1f5adf3-b326-4552-ec3a-c942d7494dde"
      },
      "outputs": [
        {
          "output_type": "stream",
          "name": "stdout",
          "text": [
            "3\n"
          ]
        }
      ],
      "source": [
        "# Your code here\n",
        "def your_function_7(s):\n",
        "  v=\"aeiouAEIOU\"\n",
        "  c=0\n",
        "  for i in s:\n",
        "    if i in v:\n",
        "      c+=1\n",
        "  return c\n",
        "\n",
        "\n",
        "\n",
        "c1=your_function_1(s=\"Nikhitha\")\n",
        "print(c1)\n",
        ""
      ]
    },
    {
      "cell_type": "markdown",
      "id": "0d3a9996",
      "metadata": {
        "id": "0d3a9996"
      },
      "source": [
        "### Question 8\n",
        "Write a function that returns the sum of a list."
      ]
    },
    {
      "cell_type": "code",
      "execution_count": 15,
      "id": "ab6afc66",
      "metadata": {
        "colab": {
          "base_uri": "https://localhost:8080/"
        },
        "id": "ab6afc66",
        "outputId": "d44ceb55-262a-4387-80f9-63c7efc2ee4c"
      },
      "outputs": [
        {
          "output_type": "stream",
          "name": "stdout",
          "text": [
            "15\n"
          ]
        }
      ],
      "source": [
        "# Your code here\n",
        "def your_function_8(l):\n",
        "    return sum(l)\n",
        "\n",
        "s=your_function_8([1,2,3,4,5])\n",
        "print(s)"
      ]
    },
    {
      "cell_type": "markdown",
      "id": "f6682500",
      "metadata": {
        "id": "f6682500"
      },
      "source": [
        "### Question 9\n",
        "Write a function to find the smallest number in a list."
      ]
    },
    {
      "cell_type": "code",
      "execution_count": 18,
      "id": "6798a641",
      "metadata": {
        "colab": {
          "base_uri": "https://localhost:8080/"
        },
        "id": "6798a641",
        "outputId": "435d41eb-c281-4eff-ccb7-ad50fb23f61e"
      },
      "outputs": [
        {
          "output_type": "stream",
          "name": "stdout",
          "text": [
            "2\n"
          ]
        }
      ],
      "source": [
        "# Your code here\n",
        "def your_function_9(l):\n",
        "  return min(l)\n",
        "\n",
        "s=your_function_9([3,2,4])\n",
        "print(s)\n",
        ""
      ]
    },
    {
      "cell_type": "markdown",
      "id": "fb11e683",
      "metadata": {
        "id": "fb11e683"
      },
      "source": [
        "### Question 10\n",
        "Write a function to remove duplicates from a list."
      ]
    },
    {
      "cell_type": "code",
      "execution_count": 19,
      "id": "7c53f88c",
      "metadata": {
        "colab": {
          "base_uri": "https://localhost:8080/"
        },
        "id": "7c53f88c",
        "outputId": "8532127c-5f29-44ce-cb1e-10b29952cfb6"
      },
      "outputs": [
        {
          "output_type": "stream",
          "name": "stdout",
          "text": [
            "{2, 3, 4, 5}\n"
          ]
        }
      ],
      "source": [
        "# Your code here\n",
        "def your_function_10(l):\n",
        "    s=set(l)\n",
        "    print(s)\n",
        "\n",
        "your_function_10([2,2,3,4,5,5])\n"
      ]
    },
    {
      "cell_type": "markdown",
      "id": "9c380a5c",
      "metadata": {
        "id": "9c380a5c"
      },
      "source": [
        "### Question 11\n",
        "Write a function to sort a list in ascending order without using builtin sort function"
      ]
    },
    {
      "cell_type": "code",
      "execution_count": 23,
      "id": "8e43832f",
      "metadata": {
        "colab": {
          "base_uri": "https://localhost:8080/"
        },
        "id": "8e43832f",
        "outputId": "34b3da1f-8486-4809-8780-5ed9262fc9de"
      },
      "outputs": [
        {
          "output_type": "stream",
          "name": "stdout",
          "text": [
            "['aab', 'bac', 'bbb']\n"
          ]
        }
      ],
      "source": [
        "# Your code here\n",
        "def your_function_11(l):\n",
        "  for i in range(len(l)):\n",
        "    for j in range(i+1,len(l)):\n",
        "      if l[i]>l[j]:\n",
        "        l[i],l[j]=l[j],l[i]\n",
        "  return l\n",
        "\n",
        "s=your_function_11(l=[\"aab\",\"bac\",\"bbb\"])\n",
        "print(s)\n",
        ""
      ]
    },
    {
      "cell_type": "markdown",
      "id": "1270c91c",
      "metadata": {
        "id": "1270c91c"
      },
      "source": [
        "### Question 12\n",
        "Write a function that returns the length of a string."
      ]
    },
    {
      "cell_type": "code",
      "execution_count": 24,
      "id": "87f35472",
      "metadata": {
        "colab": {
          "base_uri": "https://localhost:8080/"
        },
        "id": "87f35472",
        "outputId": "92a753e9-c02a-4da2-9f3b-e5846ba8b294"
      },
      "outputs": [
        {
          "output_type": "stream",
          "name": "stdout",
          "text": [
            "8\n"
          ]
        }
      ],
      "source": [
        "# Your code here\n",
        "def your_function_12(s):\n",
        "  print(len(s))\n",
        "\n",
        "\n",
        "your_function_12(s=\"nikhitha\")\n",
        ""
      ]
    },
    {
      "cell_type": "markdown",
      "id": "9a8e3d28",
      "metadata": {
        "id": "9a8e3d28"
      },
      "source": [
        "### Question 13\n",
        "Write a function to count words in a sentence."
      ]
    },
    {
      "cell_type": "code",
      "execution_count": 38,
      "id": "e6f996ef",
      "metadata": {
        "colab": {
          "base_uri": "https://localhost:8080/"
        },
        "id": "e6f996ef",
        "outputId": "ecbe04b5-c5e0-44e4-f96f-582a8591bbb5"
      },
      "outputs": [
        {
          "output_type": "stream",
          "name": "stdout",
          "text": [
            "2\n"
          ]
        }
      ],
      "source": [
        "from re import I\n",
        "# Your code here\n",
        "def your_function_13(s):\n",
        "  c=0\n",
        "  for i in range(len(s)):\n",
        "    if s[i]!=' ' and (i==0 or s[i-1]==\" \"):\n",
        "      c+=1\n",
        "  print(c)\n",
        "\n",
        "\n",
        "\n",
        "\n",
        "\n",
        "your_function_13(s=\" hello  world\")\n",
        "\n",
        "\n",
        ""
      ]
    },
    {
      "cell_type": "markdown",
      "id": "430c2e4a",
      "metadata": {
        "id": "430c2e4a"
      },
      "source": [
        "### Question 14\n",
        "Write a function to convert Celsius to Fahrenheit."
      ]
    },
    {
      "cell_type": "code",
      "execution_count": 39,
      "id": "b710b0bd",
      "metadata": {
        "colab": {
          "base_uri": "https://localhost:8080/"
        },
        "id": "b710b0bd",
        "outputId": "f419427e-18fc-4fa2-bb9e-2f9162e15468"
      },
      "outputs": [
        {
          "output_type": "stream",
          "name": "stdout",
          "text": [
            "77.0\n"
          ]
        }
      ],
      "source": [
        "# Your code here\n",
        "def your_function_14(cel):\n",
        "    return (cel*(9/5))+32\n",
        "\n",
        "\n",
        "fah=your_function_14(cel=25)\n",
        "print(fah)\n"
      ]
    },
    {
      "cell_type": "markdown",
      "id": "acefe5e3",
      "metadata": {
        "id": "acefe5e3"
      },
      "source": [
        "### Question 15\n",
        "Write a function to check if a number is palindrome."
      ]
    },
    {
      "cell_type": "code",
      "execution_count": 41,
      "id": "b700abae",
      "metadata": {
        "colab": {
          "base_uri": "https://localhost:8080/"
        },
        "id": "b700abae",
        "outputId": "4d12bf99-0023-4687-f642-1d0b91d3dac9"
      },
      "outputs": [
        {
          "output_type": "stream",
          "name": "stdout",
          "text": [
            "not palindrome\n"
          ]
        }
      ],
      "source": [
        "# Your code here\n",
        "def your_function_15(n):\n",
        "    s=str(n)\n",
        "    s1=s[::-1]\n",
        "    if s1==s:\n",
        "      print(\"palindrome\")\n",
        "    else:\n",
        "      print(\"not palindrome\")\n",
        "\n",
        "your_function_15(n=2232)\n",
        "\n"
      ]
    },
    {
      "cell_type": "markdown",
      "id": "b63452cb",
      "metadata": {
        "id": "b63452cb"
      },
      "source": [
        "### Question 16\n",
        "Write a function to return all even numbers in a list."
      ]
    },
    {
      "cell_type": "code",
      "execution_count": 43,
      "id": "9d1fc968",
      "metadata": {
        "colab": {
          "base_uri": "https://localhost:8080/"
        },
        "id": "9d1fc968",
        "outputId": "8935393d-faac-4aef-eac0-b7a516f81014"
      },
      "outputs": [
        {
          "output_type": "stream",
          "name": "stdout",
          "text": [
            "{2, 6}\n"
          ]
        }
      ],
      "source": [
        "# Your code here\n",
        "def your_function_16(l):\n",
        "  l1=[]\n",
        "  for i in l:\n",
        "    if i%2==0:\n",
        "      l1.append(i)\n",
        "  s=set(l1)\n",
        "  print(s)\n",
        "\n",
        "your_function_16(l=[2,2,5,1,6,7])"
      ]
    },
    {
      "cell_type": "markdown",
      "id": "aca524d9",
      "metadata": {
        "id": "aca524d9"
      },
      "source": [
        "### Question 17\n",
        "Write a function to return the nth Fibonacci number."
      ]
    },
    {
      "cell_type": "code",
      "execution_count": 49,
      "id": "97dc4e87",
      "metadata": {
        "colab": {
          "base_uri": "https://localhost:8080/"
        },
        "id": "97dc4e87",
        "outputId": "682c9575-065f-43d7-b869-9a8a4741ef22"
      },
      "outputs": [
        {
          "output_type": "stream",
          "name": "stdout",
          "text": [
            "5\n"
          ]
        }
      ],
      "source": [
        "# Your code here\n",
        "def your_function_17(a,b,n):\n",
        "  l=[]\n",
        "  for i in range(2,n+1):\n",
        "    c=a+b\n",
        "    l.append(c)\n",
        "    a=b\n",
        "    b=c\n",
        "  return l[len(l)-1]\n",
        "\n",
        "\n",
        "s=your_function_17(a=0,b=1,n=5)\n",
        "print(s)\n",
        "\n",
        "\n",
        ""
      ]
    },
    {
      "cell_type": "markdown",
      "id": "29c847dc",
      "metadata": {
        "id": "29c847dc"
      },
      "source": [
        "### Question 18\n",
        "Write a function to calculate the average of a list."
      ]
    },
    {
      "cell_type": "code",
      "execution_count": 50,
      "id": "9adc9fd2",
      "metadata": {
        "colab": {
          "base_uri": "https://localhost:8080/"
        },
        "id": "9adc9fd2",
        "outputId": "389fb499-a4a3-4de2-9f84-d4a067896321"
      },
      "outputs": [
        {
          "output_type": "stream",
          "name": "stdout",
          "text": [
            "2.0\n"
          ]
        }
      ],
      "source": [
        "# Your code here\n",
        "def your_function_18(l):\n",
        "  for i in l:\n",
        "    return sum(l)/len(l)\n",
        "\n",
        "s=your_function_18(l=[2,3,1])\n",
        "print(s)\n",
        "\n",
        "\n",
        ""
      ]
    },
    {
      "cell_type": "markdown",
      "id": "420240fb",
      "metadata": {
        "id": "420240fb"
      },
      "source": [
        "### Question 19\n",
        "Write a function that returns a dictionary of character counts."
      ]
    },
    {
      "cell_type": "code",
      "execution_count": 58,
      "id": "95cafc54",
      "metadata": {
        "colab": {
          "base_uri": "https://localhost:8080/"
        },
        "id": "95cafc54",
        "outputId": "efb4d1ed-95e0-4b0c-a757-41f373f57313"
      },
      "outputs": [
        {
          "output_type": "stream",
          "name": "stdout",
          "text": [
            "{'532': 3, 'hi': 2, '5555': 4}\n"
          ]
        }
      ],
      "source": [
        "# Your code here\n",
        "def your_function_19(l):\n",
        "  d={}\n",
        "  for i in l:\n",
        "    s=str(i)\n",
        "    d[s]=len(s)\n",
        "  print(d)\n",
        "\n",
        "your_function_19([532,\"hi\",5555])\n",
        "\n"
      ]
    },
    {
      "cell_type": "markdown",
      "id": "17629a07",
      "metadata": {
        "id": "17629a07"
      },
      "source": [
        "### Question 20\n",
        "Write a function that returns True if all list elements are unique."
      ]
    },
    {
      "cell_type": "code",
      "execution_count": 63,
      "id": "fe4f8820",
      "metadata": {
        "colab": {
          "base_uri": "https://localhost:8080/"
        },
        "id": "fe4f8820",
        "outputId": "eb8836ea-a6d6-4b86-8090-6528be1d7298"
      },
      "outputs": [
        {
          "output_type": "stream",
          "name": "stdout",
          "text": [
            "True\n"
          ]
        }
      ],
      "source": [
        "# Your code here\n",
        "def your_function_20(l):\n",
        "  s=set(l)\n",
        "  if len(s)==len(l):\n",
        "    return True\n",
        "  else:\n",
        "    return False\n",
        "\n",
        "p=your_function_20(l=[\"hello\",\"hi\",3])\n",
        "print(p)\n",
        "\n",
        ""
      ]
    },
    {
      "cell_type": "markdown",
      "id": "91dc87b9",
      "metadata": {
        "id": "91dc87b9"
      },
      "source": [
        "### Question 21\n",
        "Write a function that returns dot product of two list of numbers"
      ]
    },
    {
      "cell_type": "code",
      "execution_count": 64,
      "id": "87c3fa4b",
      "metadata": {
        "colab": {
          "base_uri": "https://localhost:8080/"
        },
        "id": "87c3fa4b",
        "outputId": "3300e7ca-5c4f-40ad-a75d-6e48872d6b34"
      },
      "outputs": [
        {
          "output_type": "stream",
          "name": "stdout",
          "text": [
            "20\n"
          ]
        }
      ],
      "source": [
        "# Your code here\n",
        "def your_function_21(l,l1):\n",
        "  res=0\n",
        "  if len(l)==len(l1):\n",
        "    for i in range(len(l)):\n",
        "      res=res+l[i]*l1[i]\n",
        "  return res\n",
        "\n",
        "s=your_function_21(l=[1,2,3],l1=[2,3,4])\n",
        "print(s)\n",
        "\n",
        "\n",
        "\n",
        "\n",
        "\n",
        "\n",
        ""
      ]
    },
    {
      "cell_type": "markdown",
      "id": "5eeb0527",
      "metadata": {
        "id": "5eeb0527"
      },
      "source": [
        "### Question 22\n",
        "Write a function that returns the projection of vector a onto vector b. Both a and b are given as list of numbers"
      ]
    },
    {
      "cell_type": "code",
      "execution_count": 65,
      "id": "d2c2439f",
      "metadata": {
        "colab": {
          "base_uri": "https://localhost:8080/"
        },
        "id": "d2c2439f",
        "outputId": "0e87eeab-060e-4211-9da8-f00382f0f115"
      },
      "outputs": [
        {
          "output_type": "stream",
          "name": "stdout",
          "text": [
            "5.385164807134505\n"
          ]
        }
      ],
      "source": [
        "# Your code here\n",
        "import math\n",
        "def your_function_22(a,b):\n",
        "  res=0\n",
        "  if len(a)==len(b):\n",
        "    for i in range(len(a)):\n",
        "      res=res+a[i]*b[i]\n",
        "  mag=math.sqrt(sum(i*i for i in b))\n",
        "  return res/mag\n",
        "\n",
        "p=your_function_22(a=[2,3,4],b=[2,3,4])\n",
        "print(p)\n",
        "\n",
        "\n",
        "\n",
        "\n",
        "\n"
      ]
    },
    {
      "cell_type": "markdown",
      "id": "1410b385",
      "metadata": {
        "id": "1410b385"
      },
      "source": [
        "### Question 23\n",
        "Write a function to return common elements between two lists."
      ]
    },
    {
      "cell_type": "code",
      "execution_count": 66,
      "id": "2cee584c",
      "metadata": {
        "colab": {
          "base_uri": "https://localhost:8080/"
        },
        "id": "2cee584c",
        "outputId": "e2a69b45-ea2d-497f-f3fe-84063ea46dcb"
      },
      "outputs": [
        {
          "output_type": "stream",
          "name": "stdout",
          "text": [
            "[2, 4, 5]\n"
          ]
        }
      ],
      "source": [
        "# Your code here\n",
        "def your_function_23(a,b):\n",
        "  l=[]\n",
        "  s=set(a)\n",
        "  for i in s:\n",
        "    if i in b:\n",
        "      l.append(i)\n",
        "  print(l)\n",
        "\n",
        "your_function_23(a=[2,3,4,5],b=[2,4,5,5])\n",
        "\n",
        "\n",
        ""
      ]
    },
    {
      "cell_type": "markdown",
      "id": "23ab5210",
      "metadata": {
        "id": "23ab5210"
      },
      "source": [
        "### Question 24\n",
        "Create a class Vector that supports addition, dot product, and magnitude."
      ]
    },
    {
      "cell_type": "code",
      "execution_count": 76,
      "id": "f6b18fd7",
      "metadata": {
        "colab": {
          "base_uri": "https://localhost:8080/"
        },
        "id": "f6b18fd7",
        "outputId": "fa6b526a-3a6c-4c94-ffd2-baf3ae3c9f42"
      },
      "outputs": [
        {
          "output_type": "stream",
          "name": "stdout",
          "text": [
            "sum= 21\n",
            "mag of a 5.385164807134504\n",
            "mag of b 7.0710678118654755\n"
          ]
        }
      ],
      "source": [
        "# Your code here\n",
        "import math\n",
        "class Vector:\n",
        "  def __init__(self,a,b):\n",
        "    self.a=a\n",
        "    self.b=b\n",
        "  def  add(self):\n",
        "    sum=0\n",
        "    if len(self.a)==len(self.b):\n",
        "      for i in range(len(self.a)):\n",
        "        sum=sum+self.a[i]+self.b[i]\n",
        "    print(\"sum=\",sum)\n",
        "  def dot(self):\n",
        "    res=0\n",
        "    if len(self.a)==len(self.b):\n",
        "      for i in range(len(self.a)):\n",
        "        res=res+self.a[i]*self.b[i]\n",
        "    print(res)\n",
        "  def mag(self):\n",
        "    a1=math.sqrt(sum(i*i for i in self.a))\n",
        "    b2=math.sqrt(sum(i*i for i in self.b))\n",
        "    print(\"mag of a\",a1)\n",
        "    print(\"mag of b\",b2)\n",
        "\n",
        "\n",
        "v=Vector(a=[2,3,4],b=[3,4,5])\n",
        "v.add()\n",
        "v.mag()\n",
        "\n",
        "\n",
        "\n",
        "\n"
      ]
    },
    {
      "cell_type": "markdown",
      "id": "a0621aba",
      "metadata": {
        "id": "a0621aba"
      },
      "source": [
        "### Question 25\n",
        "Implement a function to return all outliers in a list based on the IQR method."
      ]
    },
    {
      "cell_type": "code",
      "execution_count": 77,
      "id": "460a8994",
      "metadata": {
        "colab": {
          "base_uri": "https://localhost:8080/"
        },
        "id": "460a8994",
        "outputId": "d26fca99-327a-4650-f1a3-cb5d00f8ad2e"
      },
      "outputs": [
        {
          "output_type": "stream",
          "name": "stdout",
          "text": [
            "none\n",
            "none\n",
            "outliers are: 23\n"
          ]
        }
      ],
      "source": [
        "# Your code here\n",
        "def per(l, p):\n",
        "    l=sorted(l)\n",
        "    n = len(l)\n",
        "    q1= (p / 100) * (n - 1)\n",
        "    lower = int(q1)\n",
        "    upper = lower + 1\n",
        "    dp =q1- lower\n",
        "    if upper >= n:\n",
        "        return l[lower]\n",
        "    return l[lower] + dp * (l[upper] - l[lower])\n",
        "def your_function_25(l):\n",
        "    q1= per(l, 25)\n",
        "    q3 = per(l, 75)\n",
        "    iqr = q3 - q1\n",
        "    lb = q1 - 1.5 * iqr\n",
        "    ub= q3 + 1.5 * iqr\n",
        "    c=0\n",
        "    for i in l:\n",
        "      if i<lb or i>ub:\n",
        "        print(\"outliers are:\",i)\n",
        "        c+=1\n",
        "      if c==0:\n",
        "        print('none')\n",
        "\n",
        "\n",
        "your_function_25(l=[1,4,23,5])\n",
        "\n",
        "\n",
        "\n",
        "\n"
      ]
    },
    {
      "cell_type": "markdown",
      "id": "f0be510e",
      "metadata": {
        "id": "f0be510e"
      },
      "source": [
        "### Question 26\n",
        "Function with default arguments:\n",
        "Create a function to compute variance with an option to use sample or population formula"
      ]
    },
    {
      "cell_type": "code",
      "execution_count": 81,
      "id": "941d732d",
      "metadata": {
        "colab": {
          "base_uri": "https://localhost:8080/"
        },
        "id": "941d732d",
        "outputId": "10c28d0a-3300-4840-8af9-4ea9cb1b186b"
      },
      "outputs": [
        {
          "output_type": "stream",
          "name": "stdout",
          "text": [
            "1.6666666666666667\n"
          ]
        }
      ],
      "source": [
        "# Your code here\n",
        "def your_function_26(l=[2,3,4,5],population=True):\n",
        "  mean=sum(l)/len(l)\n",
        "  if population:\n",
        "    var1=sum((i-mean)**2 for i in l)/len(l)\n",
        "    print(var1)\n",
        "  else:\n",
        "    var2=sum((i-mean)**2 for i in l)/(len(l)-1)\n",
        "    print(var2)\n",
        "\n",
        "your_function_26(population=False)\n",
        "\n",
        "\n",
        ""
      ]
    },
    {
      "cell_type": "markdown",
      "id": "c39be0f1",
      "metadata": {
        "id": "c39be0f1"
      },
      "source": [
        "### Question 27\n",
        "Create a list of squares of even numbers between 1 and 20 using list comprehension."
      ]
    },
    {
      "cell_type": "code",
      "execution_count": 84,
      "id": "9e4ba74a",
      "metadata": {
        "colab": {
          "base_uri": "https://localhost:8080/"
        },
        "id": "9e4ba74a",
        "outputId": "60923910-f75a-485a-87fb-436cf9364522"
      },
      "outputs": [
        {
          "output_type": "stream",
          "name": "stdout",
          "text": [
            "[4, 16, 36, 64, 100, 144, 196, 256, 324, 400]\n"
          ]
        }
      ],
      "source": [
        "# Your code here\n",
        "def your_function_27():\n",
        "  return [i*i for i in range(1,21) if i%2==0]\n",
        "\n",
        "l1=your_function_27()\n",
        "print(l1)\n",
        "\n",
        ""
      ]
    },
    {
      "cell_type": "markdown",
      "id": "b43c266d",
      "metadata": {
        "id": "b43c266d"
      },
      "source": [
        "### Question 28\n",
        "Write a function that returns the L1 and L2 norms of a vector given as list"
      ]
    },
    {
      "cell_type": "code",
      "execution_count": 87,
      "id": "4f5dc876",
      "metadata": {
        "colab": {
          "base_uri": "https://localhost:8080/"
        },
        "id": "4f5dc876",
        "outputId": "c21345ed-4d70-4037-c222-5986052d2b69"
      },
      "outputs": [
        {
          "output_type": "stream",
          "name": "stdout",
          "text": [
            "Vector: [3, -4, 1]\n",
            "L1 Norm: 8\n",
            "L2 Norm: 5.0990195135927845\n"
          ]
        }
      ],
      "source": [
        "# Your code here\n",
        "import math\n",
        "\n",
        "def compute_norms(vector):\n",
        "    l1 = sum(abs(x) for x in vector)\n",
        "    l2 = math.sqrt(sum(x**2 for x in vector))\n",
        "    return l1, l2\n",
        "\n",
        "v = [3, -4, 1]\n",
        "l1_norm, l2_norm = compute_norms(v)\n",
        "\n",
        "print(\"Vector:\", v)\n",
        "print(\"L1 Norm:\", l1_norm)\n",
        "print(\"L2 Norm:\", l2_norm)\n",
        "\n",
        "\n"
      ]
    },
    {
      "cell_type": "markdown",
      "id": "2007915f",
      "metadata": {
        "id": "2007915f"
      },
      "source": [
        "### Question 29\n",
        "Write a function that computes the 95% confidence interval for the mean of a list of numbers assuming normal distribution."
      ]
    },
    {
      "cell_type": "code",
      "execution_count": 88,
      "id": "8634dc63",
      "metadata": {
        "colab": {
          "base_uri": "https://localhost:8080/"
        },
        "id": "8634dc63",
        "outputId": "9ea58d2b-d4f5-47d9-e8de-f1290be0cfc3"
      },
      "outputs": [
        {
          "output_type": "stream",
          "name": "stdout",
          "text": [
            "95% Confidence Interval: (9.655519916681763, 12.011146749984905)\n"
          ]
        }
      ],
      "source": [
        "# Your code here\n",
        "import math\n",
        "\n",
        "def confidence_interval_95(data):\n",
        "    n = len(data)\n",
        "    if n == 0:\n",
        "        return None\n",
        "\n",
        "    mean = sum(data) / n\n",
        "    variance = sum((x - mean) ** 2 for x in data) / (n - 1)\n",
        "    std_dev = math.sqrt(variance)\n",
        "    z = 1.96\n",
        "\n",
        "    margin_of_error = z * (std_dev / math.sqrt(n))\n",
        "\n",
        "    lower_bound = mean - margin_of_error\n",
        "    upper_bound = mean + margin_of_error\n",
        "\n",
        "    return (lower_bound, upper_bound)\n",
        "\n",
        "\n",
        "data = [10, 12, 9, 11, 13, 10]\n",
        "ci = confidence_interval_95(data)\n",
        "print(\"95% Confidence Interval:\", ci)\n",
        "\n",
        ""
      ]
    },
    {
      "cell_type": "markdown",
      "id": "08df3afb",
      "metadata": {
        "id": "08df3afb"
      },
      "source": [
        "### Question 30\n",
        "Given a list of categorical values, create a frequency distribution dictionary."
      ]
    },
    {
      "cell_type": "code",
      "execution_count": 89,
      "id": "c9b88531",
      "metadata": {
        "colab": {
          "base_uri": "https://localhost:8080/"
        },
        "id": "c9b88531",
        "outputId": "34780bb8-c297-43b8-dcf7-b94c73ab1e70"
      },
      "outputs": [
        {
          "output_type": "stream",
          "name": "stdout",
          "text": [
            "{'hello': 2, 'hi': 2, 'ooo': 1, 'hiiiii': 1}\n"
          ]
        }
      ],
      "source": [
        "# Your code here\n",
        "def frequency_distribution(data):\n",
        "    freq_dict = {}\n",
        "    for item in data:\n",
        "        if item in freq_dict:\n",
        "            freq_dict[item] += 1\n",
        "        else:\n",
        "            freq_dict[item] = 1\n",
        "    return freq_dict\n",
        "\n",
        "# Example usage\n",
        "data = [\"hello\", \"hi\", \"hello\", \"ooo\", \"hi\", \"hiiiii\"]\n",
        "result = frequency_distribution(data)\n",
        "print(result)\n",
        "\n"
      ]
    }
  ],
  "metadata": {
    "language_info": {
      "name": "python"
    },
    "colab": {
      "provenance": [],
      "include_colab_link": true
    },
    "kernelspec": {
      "name": "python3",
      "display_name": "Python 3"
    }
  },
  "nbformat": 4,
  "nbformat_minor": 5
}